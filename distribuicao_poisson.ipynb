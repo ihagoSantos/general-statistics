{
  "nbformat": 4,
  "nbformat_minor": 0,
  "metadata": {
    "colab": {
      "provenance": [],
      "authorship_tag": "ABX9TyP3qflz42NwE/PpvWnV8fTn",
      "include_colab_link": true
    },
    "kernelspec": {
      "name": "python3",
      "display_name": "Python 3"
    },
    "language_info": {
      "name": "python"
    }
  },
  "cells": [
    {
      "cell_type": "markdown",
      "metadata": {
        "id": "view-in-github",
        "colab_type": "text"
      },
      "source": [
        "<a href=\"https://colab.research.google.com/github/ihagoSantos/general-statistics/blob/main/distribuicao_poisson.ipynb\" target=\"_parent\"><img src=\"https://colab.research.google.com/assets/colab-badge.svg\" alt=\"Open In Colab\"/></a>"
      ]
    },
    {
      "cell_type": "markdown",
      "source": [
        "# Distribuição Poisson\n",
        "\n",
        "- Distribuição Poisson para o cálculo de P(X = x)\n",
        "  - `poisson.pmf(x, media)`\n",
        "- Distribuição Poisson para o cálculo de P(o <= X <=x) = P(X <=x)\n",
        "  - `poisson.cdf(x, media)`\n",
        "- Distribuição Poisson para o cálculo de P(X > x)\n",
        "  - `poisson.sf(x, media)`\n",
        "\n",
        "Para usar as funções de cálculo de probabilidade para a distribuição poisson é necessário primeiramente importar a função *poisson*:\n",
        "\n",
        "```\n",
        "from scipy.stats import poisson\n",
        "```\n",
        "\n"
      ],
      "metadata": {
        "id": "DlyEgUsn9iuL"
      }
    },
    {
      "cell_type": "markdown",
      "source": [
        "## Exemplo 2\n",
        "\n",
        "Uma central telefônica recebe, em média, cinco chamadas por minuto.\n",
        "1. Defina a variável aleatória\n",
        "2. Calcule a probabilidade de que durante um intervalo de um minuto:\n",
        "  - i. A central telefônica não receba chamada\n",
        "  - ii. Receba, no máximo, uma chamada\n",
        "  - iii. Receba mais de duas chamadas\n",
        "3. Durante um intervalo de quatro minutos, qual a probabilidade de que ocorram 15 chamadas?\n"
      ],
      "metadata": {
        "id": "tqUZ6m3h-aDJ"
      }
    },
    {
      "cell_type": "code",
      "source": [
        "from scipy.stats import poisson"
      ],
      "metadata": {
        "id": "07HPP6oj_e8g"
      },
      "execution_count": 1,
      "outputs": []
    },
    {
      "cell_type": "code",
      "execution_count": 2,
      "metadata": {
        "id": "GDM0P-Ko9Xad"
      },
      "outputs": [],
      "source": [
        "# 1. Variável aleatória\n",
        "# X: Número de chamadas telefônicas recebidas por minuto.\n",
        "# x: 0, 1, ...\n",
        "# X ~ P(lambda), onde lambda é a taxa média de chamadas por minuto\n",
        "media = 5"
      ]
    },
    {
      "cell_type": "code",
      "source": [
        "# 2. i. P(X = 0)\n",
        "poisson.pmf(0, media)"
      ],
      "metadata": {
        "colab": {
          "base_uri": "https://localhost:8080/"
        },
        "id": "6NYaVvV6_ZvF",
        "outputId": "c1595e2f-baa8-45cb-bdf3-3c33d0b1f28e"
      },
      "execution_count": 3,
      "outputs": [
        {
          "output_type": "execute_result",
          "data": {
            "text/plain": [
              "0.006737946999085467"
            ]
          },
          "metadata": {},
          "execution_count": 3
        }
      ]
    },
    {
      "cell_type": "code",
      "source": [
        "# 2. ii. P (X <= 1)\n",
        "poisson.cdf(1, media)"
      ],
      "metadata": {
        "id": "KRLslIOi_mK9",
        "colab": {
          "base_uri": "https://localhost:8080/"
        },
        "outputId": "1410ad63-d955-4622-ff11-2018b639c584"
      },
      "execution_count": 5,
      "outputs": [
        {
          "output_type": "execute_result",
          "data": {
            "text/plain": [
              "0.04042768199451279"
            ]
          },
          "metadata": {},
          "execution_count": 5
        }
      ]
    },
    {
      "cell_type": "code",
      "source": [
        "# 2. iii. P(X > 2)\n",
        "print(f\"P(X > 2): {poisson.sf(2, media)}\")\n",
        "\n",
        "print(f\"P(X > 2) == 1 - P(X <= 2): {poisson.sf(2, media) == 1 - poisson.cdf(2, media)}\")\n"
      ],
      "metadata": {
        "id": "4HnqrsBu_yA4",
        "colab": {
          "base_uri": "https://localhost:8080/"
        },
        "outputId": "bb37ff6b-6d49-4415-b2d4-36464f4cca8f"
      },
      "execution_count": 11,
      "outputs": [
        {
          "output_type": "stream",
          "name": "stdout",
          "text": [
            "P(X > 2): 0.8753479805169189\n",
            "P(X > 2) == 1 - P(X <= 2): True\n"
          ]
        }
      ]
    },
    {
      "cell_type": "code",
      "source": [],
      "metadata": {
        "id": "Rkufs9nnAUPV"
      },
      "execution_count": 10,
      "outputs": []
    },
    {
      "cell_type": "code",
      "source": [],
      "metadata": {
        "id": "urHT9H2yBDYU"
      },
      "execution_count": null,
      "outputs": []
    }
  ]
}