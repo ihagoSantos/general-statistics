{
  "nbformat": 4,
  "nbformat_minor": 0,
  "metadata": {
    "colab": {
      "provenance": [],
      "authorship_tag": "ABX9TyPqYzgiiDu+7d+XvdYwdafT",
      "include_colab_link": true
    },
    "kernelspec": {
      "name": "python3",
      "display_name": "Python 3"
    },
    "language_info": {
      "name": "python"
    }
  },
  "cells": [
    {
      "cell_type": "markdown",
      "metadata": {
        "id": "view-in-github",
        "colab_type": "text"
      },
      "source": [
        "<a href=\"https://colab.research.google.com/github/ihagoSantos/general-statistics/blob/main/distribuicao_poisson.ipynb\" target=\"_parent\"><img src=\"https://colab.research.google.com/assets/colab-badge.svg\" alt=\"Open In Colab\"/></a>"
      ]
    },
    {
      "cell_type": "markdown",
      "source": [
        "# Distribuição Poisson\n",
        "\n",
        "- Distribuição Poisson para o cálculo de P(X = x)\n",
        "  - `poisson.pmf(x, media)`\n",
        "- Distribuição Poisson para o cálculo de P(o <= X <=x) = P(X <=x)\n",
        "  - `poisson.cdf(x, media)`\n",
        "- Distribuição Poisson para o cálculo de P(X > x)\n",
        "  - `poisson.sf(x, media)`\n",
        "\n",
        "Para usar as funções de cálculo de probabilidade para a distribuição poisson é necessário primeiramente importar a função *poisson*:\n",
        "\n",
        "```\n",
        "from scipy.stats import poisson\n",
        "```\n",
        "\n"
      ],
      "metadata": {
        "id": "DlyEgUsn9iuL"
      }
    },
    {
      "cell_type": "markdown",
      "source": [
        "## Exemplo 2\n",
        "\n",
        "Uma central telefônica recebe, em média, cinco chamadas por minuto.\n",
        "1. Defina a variável aleatória\n",
        "2. Calcule a probabilidade de que durante um intervalo de um minuto:\n",
        "  - i. A central telefônica não receba chamada\n",
        "  - ii. Receba, no máximo, uma chamada\n",
        "  - iii. Receba mais de duas chamadas\n",
        "3. Durante um intervalo de quatro minutos, qual a probabilidade de que ocorram 15 chamadas?\n"
      ],
      "metadata": {
        "id": "tqUZ6m3h-aDJ"
      }
    },
    {
      "cell_type": "code",
      "source": [
        "from scipy.stats import poisson"
      ],
      "metadata": {
        "id": "07HPP6oj_e8g"
      },
      "execution_count": 1,
      "outputs": []
    },
    {
      "cell_type": "code",
      "execution_count": null,
      "metadata": {
        "id": "GDM0P-Ko9Xad"
      },
      "outputs": [],
      "source": [
        "# 1. Variável aleatória\n",
        "# X: Número de chamadas telefônicas recebidas por minuto.\n",
        "# x: 0, 1, ...\n",
        "# X ~ P(lambda), onde lambda é a taxa média de chamadas por minuto\n",
        "media = 5"
      ]
    },
    {
      "cell_type": "code",
      "source": [
        "# 2. i. P(X = 0)\n",
        "poisson.pmf(0, media)"
      ],
      "metadata": {
        "colab": {
          "base_uri": "https://localhost:8080/"
        },
        "id": "6NYaVvV6_ZvF",
        "outputId": "c1595e2f-baa8-45cb-bdf3-3c33d0b1f28e"
      },
      "execution_count": null,
      "outputs": [
        {
          "output_type": "execute_result",
          "data": {
            "text/plain": [
              "0.006737946999085467"
            ]
          },
          "metadata": {},
          "execution_count": 3
        }
      ]
    },
    {
      "cell_type": "code",
      "source": [
        "# 2. ii. P (X <= 1)\n",
        "poisson.cdf(1, media)"
      ],
      "metadata": {
        "id": "KRLslIOi_mK9",
        "colab": {
          "base_uri": "https://localhost:8080/"
        },
        "outputId": "1410ad63-d955-4622-ff11-2018b639c584"
      },
      "execution_count": null,
      "outputs": [
        {
          "output_type": "execute_result",
          "data": {
            "text/plain": [
              "0.04042768199451279"
            ]
          },
          "metadata": {},
          "execution_count": 5
        }
      ]
    },
    {
      "cell_type": "code",
      "source": [
        "# 2. iii. P(X > 2)\n",
        "print(f\"P(X > 2): {poisson.sf(2, media)}\")\n",
        "\n",
        "print(f\"P(X > 2) == 1 - P(X <= 2): {poisson.sf(2, media) == 1 - poisson.cdf(2, media)}\")\n"
      ],
      "metadata": {
        "id": "4HnqrsBu_yA4",
        "colab": {
          "base_uri": "https://localhost:8080/"
        },
        "outputId": "bb37ff6b-6d49-4415-b2d4-36464f4cca8f"
      },
      "execution_count": null,
      "outputs": [
        {
          "output_type": "stream",
          "name": "stdout",
          "text": [
            "P(X > 2): 0.8753479805169189\n",
            "P(X > 2) == 1 - P(X <= 2): True\n"
          ]
        }
      ]
    },
    {
      "cell_type": "markdown",
      "source": [
        "## Exercício 4\n",
        "Falhas ocorrem, ao acaso, ao longo do comprimento de um fio delgado de cobre. Suponha que o número de falhas siga a distribuição de Poisson, com uma média de 2,3 falhas por milímetro.\n",
        "- a) Determine a probabilidade de existir exatamente 2 falhas em 1 milímetro de fio.\n",
        "- b) Determine a probabilidade de existir entre 2 e 4 falhas em 1 milímetro de fio.\n",
        "- c) Determine a probabilidade de 10 falhas em 5 milímetros de fio.\n",
        "- d) Determine a probabilidade de existir, no mínimo, uma falha em 2 milímetros de fio"
      ],
      "metadata": {
        "id": "OdkvXxQj3rQE"
      }
    },
    {
      "cell_type": "code",
      "source": [
        "media = 2.3"
      ],
      "metadata": {
        "id": "bg44Q4494QOK"
      },
      "execution_count": 4,
      "outputs": []
    },
    {
      "cell_type": "code",
      "source": [
        "# a)\n",
        "poisson.pmf(2, media)"
      ],
      "metadata": {
        "id": "Rkufs9nnAUPV",
        "colab": {
          "base_uri": "https://localhost:8080/"
        },
        "outputId": "9ff6e416-5148-4017-ad33-951f452fe9e5"
      },
      "execution_count": 5,
      "outputs": [
        {
          "output_type": "execute_result",
          "data": {
            "text/plain": [
              "0.2651846416468159"
            ]
          },
          "metadata": {},
          "execution_count": 5
        }
      ]
    },
    {
      "cell_type": "code",
      "source": [
        "# b)\n",
        "poisson.pmf(3, media)"
      ],
      "metadata": {
        "id": "urHT9H2yBDYU",
        "colab": {
          "base_uri": "https://localhost:8080/"
        },
        "outputId": "b5debb98-1cc9-42f8-c13e-19d1d0d71b6b"
      },
      "execution_count": 6,
      "outputs": [
        {
          "output_type": "execute_result",
          "data": {
            "text/plain": [
              "0.20330822526255884"
            ]
          },
          "metadata": {},
          "execution_count": 6
        }
      ]
    },
    {
      "cell_type": "code",
      "source": [
        "# c)\n",
        "poisson.pmf(10, media * 5)"
      ],
      "metadata": {
        "colab": {
          "base_uri": "https://localhost:8080/"
        },
        "id": "RDd9bRbC4OPx",
        "outputId": "1c1f4c94-38d6-4ba9-909f-ce4b04be7040"
      },
      "execution_count": 8,
      "outputs": [
        {
          "output_type": "execute_result",
          "data": {
            "text/plain": [
              "0.11293507088124335"
            ]
          },
          "metadata": {},
          "execution_count": 8
        }
      ]
    },
    {
      "cell_type": "code",
      "source": [
        "# d)\n",
        "1 - poisson.cdf(0, media * 2)"
      ],
      "metadata": {
        "colab": {
          "base_uri": "https://localhost:8080/"
        },
        "id": "qmICFpkD4dBP",
        "outputId": "e0cd741a-817d-48e5-9ceb-d2a2e49aae18"
      },
      "execution_count": 11,
      "outputs": [
        {
          "output_type": "execute_result",
          "data": {
            "text/plain": [
              "0.9899481642553665"
            ]
          },
          "metadata": {},
          "execution_count": 11
        }
      ]
    },
    {
      "cell_type": "markdown",
      "source": [
        "## Exercício 5\n",
        "O número de falhas em parafusos de máquinas da indústria textil segue distribuição de Poisson, com uma média de 0,1 falha por metro quadrado.\n",
        "- a) Qual é a probabilidade de que haja duas falhas em 1 metro quadrado de tecido?\n",
        "- b) Qual é a probabilidade de que haja uma falha em 10 metros quadrados de tecido?\n",
        "- c) Qual é a probabilidade de que não haja falhas em 20 metros quadrados de tecido?\n",
        "- d) Qual é a probabilidade de que haja no mínimo duas falhas em 10 metros quadrados de tecido?"
      ],
      "metadata": {
        "id": "jr8hE_XH5AJx"
      }
    },
    {
      "cell_type": "code",
      "source": [
        "media = 0.1"
      ],
      "metadata": {
        "id": "RTKhONHu4qpZ"
      },
      "execution_count": 12,
      "outputs": []
    },
    {
      "cell_type": "code",
      "source": [
        "# a)\n",
        "poisson.pmf(2, media)"
      ],
      "metadata": {
        "colab": {
          "base_uri": "https://localhost:8080/"
        },
        "id": "3KNkXQRl5G-t",
        "outputId": "2a72d61b-f64f-474e-8695-9447bf32ea12"
      },
      "execution_count": 14,
      "outputs": [
        {
          "output_type": "execute_result",
          "data": {
            "text/plain": [
              "0.004524187090179801"
            ]
          },
          "metadata": {},
          "execution_count": 14
        }
      ]
    },
    {
      "cell_type": "code",
      "source": [
        "# b)\n",
        "poisson.pmf(1, media * 10)"
      ],
      "metadata": {
        "colab": {
          "base_uri": "https://localhost:8080/"
        },
        "id": "QhKAxRUY5Kdq",
        "outputId": "a68907bc-fe2c-44fb-da0c-8fbfd62ccb83"
      },
      "execution_count": 16,
      "outputs": [
        {
          "output_type": "execute_result",
          "data": {
            "text/plain": [
              "0.36787944117144233"
            ]
          },
          "metadata": {},
          "execution_count": 16
        }
      ]
    },
    {
      "cell_type": "code",
      "source": [
        "# c)\n",
        "poisson.pmf(0, media * 20)"
      ],
      "metadata": {
        "colab": {
          "base_uri": "https://localhost:8080/"
        },
        "id": "Kyn5355r5SLf",
        "outputId": "85cc4dba-d25f-4ac4-d2f6-0d9c4877bb81"
      },
      "execution_count": 17,
      "outputs": [
        {
          "output_type": "execute_result",
          "data": {
            "text/plain": [
              "0.1353352832366127"
            ]
          },
          "metadata": {},
          "execution_count": 17
        }
      ]
    },
    {
      "cell_type": "code",
      "source": [
        "# d)\n",
        "poisson.sf(1, media * 10)"
      ],
      "metadata": {
        "colab": {
          "base_uri": "https://localhost:8080/"
        },
        "id": "8XNHI4Ek5aEP",
        "outputId": "c5e8d50a-5944-4a8f-8f5a-5c1830399ef5"
      },
      "execution_count": 21,
      "outputs": [
        {
          "output_type": "execute_result",
          "data": {
            "text/plain": [
              "0.2642411176571153"
            ]
          },
          "metadata": {},
          "execution_count": 21
        }
      ]
    },
    {
      "cell_type": "markdown",
      "source": [
        "## Exercício 6\n",
        "Um engenheiro de tráfego monitora o fluxo de carros em um cruzamento que tem uma média de 6 carros por minuto. Para estabelecer o tempo de um sinal, as seguintes probabilidade são utilizadas:\n",
        "- a) Qual é a probabilidade de nenhum carro passar pelo cruzamento em 30 segundos?\n",
        "- b) Qual é a probabilidade de três ou mais carros passarem pelo cruzamento em 30 segundos?"
      ],
      "metadata": {
        "id": "XOkzCwAn6JP4"
      }
    },
    {
      "cell_type": "code",
      "source": [
        "media = 6"
      ],
      "metadata": {
        "id": "-klPWBT-5ld9"
      },
      "execution_count": 22,
      "outputs": []
    },
    {
      "cell_type": "code",
      "source": [
        "# a)\n",
        "poisson.pmf(0, media/2)"
      ],
      "metadata": {
        "colab": {
          "base_uri": "https://localhost:8080/"
        },
        "id": "pBaKMVdM6S9b",
        "outputId": "1b3076ec-0371-4fb5-8634-81927ab95ff4"
      },
      "execution_count": 23,
      "outputs": [
        {
          "output_type": "execute_result",
          "data": {
            "text/plain": [
              "0.049787068367863944"
            ]
          },
          "metadata": {},
          "execution_count": 23
        }
      ]
    },
    {
      "cell_type": "code",
      "source": [
        "poisson.sf(2, media/2)"
      ],
      "metadata": {
        "colab": {
          "base_uri": "https://localhost:8080/"
        },
        "id": "d4qhDt6D6XhN",
        "outputId": "58873744-ba21-4c31-c680-be796eae2d4b"
      },
      "execution_count": 24,
      "outputs": [
        {
          "output_type": "execute_result",
          "data": {
            "text/plain": [
              "0.5768099188731566"
            ]
          },
          "metadata": {},
          "execution_count": 24
        }
      ]
    },
    {
      "cell_type": "code",
      "source": [],
      "metadata": {
        "id": "FXStXNHO6e94"
      },
      "execution_count": null,
      "outputs": []
    }
  ]
}