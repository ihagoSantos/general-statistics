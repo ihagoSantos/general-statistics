{
  "nbformat": 4,
  "nbformat_minor": 0,
  "metadata": {
    "colab": {
      "provenance": [],
      "authorship_tag": "ABX9TyMvm100JQKEFGDft2eiRUox",
      "include_colab_link": true
    },
    "kernelspec": {
      "name": "python3",
      "display_name": "Python 3"
    },
    "language_info": {
      "name": "python"
    }
  },
  "cells": [
    {
      "cell_type": "markdown",
      "metadata": {
        "id": "view-in-github",
        "colab_type": "text"
      },
      "source": [
        "<a href=\"https://colab.research.google.com/github/ihagoSantos/general-statistics/blob/main/distribuicao_binomial.ipynb\" target=\"_parent\"><img src=\"https://colab.research.google.com/assets/colab-badge.svg\" alt=\"Open In Colab\"/></a>"
      ]
    },
    {
      "cell_type": "markdown",
      "source": [
        "# Distribuição Binomial\n",
        "\n",
        "- Distribuição Binomial para o cálculo de P(X=x) \\\\\n",
        "`binom.pmf(x,n,p)`\n",
        "\n",
        "\n",
        "- Distribuição Binomial para o cálculo de P(0 <= X <= x) = P(X <= x) \\\\\n",
        "`binom.cdf(x,n,p)`\n",
        "\n",
        "- Distribuição Binomial para o cálculo de P(X > x) \\\\\n",
        "`binom.sf(x,n,p)`\n",
        "\n",
        "Importante:\n",
        "\n",
        "Para usar as funções de cálculo de probabilidade para a distribuição binomial no Python, é necessário primeiramente importar a função *binom*:\n",
        "\n",
        "```\n",
        "from scipy.stats import binom\n",
        "```\n",
        "\n"
      ],
      "metadata": {
        "id": "WDXs0X0kcISP"
      }
    },
    {
      "cell_type": "code",
      "execution_count": 1,
      "metadata": {
        "id": "1UbjZzv9cGNB"
      },
      "outputs": [],
      "source": [
        "from scipy.stats import binom"
      ]
    },
    {
      "cell_type": "markdown",
      "source": [
        "## Exercício 1\n",
        "\n",
        "Uma caixa de ovos com 12 unidades possui a probabilidade de 5% de um dos ovos ser quebrado em 3 situações: enquanto é manuseado, no transporte e nas gôndolas do mercado.\n",
        "\n",
        "a) Qual a probabilidade de que essa caixa de ovos possua 2 unidades quebradas?\n",
        "\n",
        "b) Qual a probabilidade de que essa caixa de ovos possua no máximo 2 unidades quebradas?\n",
        "\n",
        "c) Qual a probabilidade de que essa caixa de ovos possua mais de 2 unidades quebradas?"
      ],
      "metadata": {
        "id": "6wGjbZKvdjgm"
      }
    },
    {
      "cell_type": "code",
      "source": [
        "n = 12 # unidades de ovos\n",
        "p = 0.05 # probabilidade de um dos ovos ser quebrado\n",
        "q = 0.95 # probabilidade de um dos ovos não ser quebrado"
      ],
      "metadata": {
        "id": "itTz_aS-eQTd"
      },
      "execution_count": null,
      "outputs": []
    },
    {
      "cell_type": "code",
      "source": [
        "# a) P(X=2) ?\n",
        "\n",
        "binom.pmf(2, n, p)"
      ],
      "metadata": {
        "colab": {
          "base_uri": "https://localhost:8080/"
        },
        "id": "JdYLScaneooa",
        "outputId": "c7aaf67e-3bad-45b3-8c72-e99fc48be431"
      },
      "execution_count": null,
      "outputs": [
        {
          "output_type": "execute_result",
          "data": {
            "text/plain": [
              "0.0987915949743324"
            ]
          },
          "metadata": {},
          "execution_count": 3
        }
      ]
    },
    {
      "cell_type": "code",
      "source": [
        "# b) P(X <= 2) ?\n",
        "\n",
        "binom.cdf(2, n, p)"
      ],
      "metadata": {
        "colab": {
          "base_uri": "https://localhost:8080/"
        },
        "id": "PC_WD3gUfZjR",
        "outputId": "f1add027-86f5-4bbb-ebc6-2eb3552b9825"
      },
      "execution_count": null,
      "outputs": [
        {
          "output_type": "execute_result",
          "data": {
            "text/plain": [
              "0.9804317380028454"
            ]
          },
          "metadata": {},
          "execution_count": 4
        }
      ]
    },
    {
      "cell_type": "code",
      "source": [
        "# c) P(X > 2) ?\n",
        "\n",
        "binom.sf(2, n, p)"
      ],
      "metadata": {
        "colab": {
          "base_uri": "https://localhost:8080/"
        },
        "id": "H08XJWoofntn",
        "outputId": "23e0c4ff-2c62-4077-d501-fd2ffe032d04"
      },
      "execution_count": null,
      "outputs": [
        {
          "output_type": "execute_result",
          "data": {
            "text/plain": [
              "0.01956826199715453"
            ]
          },
          "metadata": {},
          "execution_count": 5
        }
      ]
    },
    {
      "cell_type": "code",
      "source": [],
      "metadata": {
        "id": "FXTZWA3vgeUH"
      },
      "execution_count": null,
      "outputs": []
    },
    {
      "cell_type": "markdown",
      "source": [
        "## Exemplo 1\n",
        "\n",
        "Suponha que 5% de todas as peças que saiam de uma linha de produção sejam defeituosas. Se 10 dessas peças forem escolhidas e inspecionadas, pede-se:\n",
        "\n",
        "\n",
        "\n",
        "1. Identifique a variável aleatória estudada. Quais valores ela pode assumir?\n",
        "2. Calcule o número médio de peças defeituosas e, também, o desvio padrão.\n",
        "3. Qual será a probabilidade de que:  \n",
        "  - i. Exatamente 7 sejam defeituosas\n",
        "  - ii. No máximo 2 sejam defeituosas\n",
        "  - iii. No máximo 8 sejam defeituosas\n",
        "  - iv. Mais de 7 não sejam defeituosas\n"
      ],
      "metadata": {
        "id": "34GYcGyEjYsv"
      }
    },
    {
      "cell_type": "code",
      "source": [
        "# 1. Valores Identificados\n",
        "\n",
        "x = range(11)\n",
        "n = 10\n",
        "p = 0.05\n",
        "f\"Sendo X o número de peças defeituosas, X poderá assumir os valores: {list(x)}\""
      ],
      "metadata": {
        "colab": {
          "base_uri": "https://localhost:8080/",
          "height": 35
        },
        "id": "lZaklk2LkXRH",
        "outputId": "9ff15ac4-296b-4af9-81d9-3d04119e48db"
      },
      "execution_count": 6,
      "outputs": [
        {
          "output_type": "execute_result",
          "data": {
            "text/plain": [
              "'Sendo X o número de peças defeituosas, X poderá assumir os valores: [0, 1, 2, 3, 4, 5, 6, 7, 8, 9, 10]'"
            ],
            "application/vnd.google.colaboratory.intrinsic+json": {
              "type": "string"
            }
          },
          "metadata": {},
          "execution_count": 6
        }
      ]
    },
    {
      "cell_type": "code",
      "source": [
        "# 2. Média e Desvio Padrão\n",
        "mean = binom.mean(n, p)\n",
        "print(f\"Mean: {mean}\")\n",
        "\n",
        "std = binom.std(n,p)\n",
        "print(f\"Standard Deviation: {std}\")\n"
      ],
      "metadata": {
        "colab": {
          "base_uri": "https://localhost:8080/"
        },
        "id": "UGM8y5Qckqq_",
        "outputId": "76bf0565-a3c0-4624-ff0f-b1983740f1d6"
      },
      "execution_count": 8,
      "outputs": [
        {
          "output_type": "stream",
          "name": "stdout",
          "text": [
            "Mean: 0.5\n",
            "Standard Deviation: 0.689202437604511\n"
          ]
        }
      ]
    },
    {
      "cell_type": "code",
      "source": [
        "# 3. i. Exatamente 7 Peças defeituosas\n",
        "binom.pmf(7, n, p)"
      ],
      "metadata": {
        "colab": {
          "base_uri": "https://localhost:8080/"
        },
        "id": "lzCW3jUQlbCw",
        "outputId": "b991422b-231e-4deb-e4af-29eda716f056"
      },
      "execution_count": 9,
      "outputs": [
        {
          "output_type": "execute_result",
          "data": {
            "text/plain": [
              "8.037890624999999e-08"
            ]
          },
          "metadata": {},
          "execution_count": 9
        }
      ]
    },
    {
      "cell_type": "code",
      "source": [
        "# 3. ii. No máximo 2 sejam defeituosas\n",
        "binom.cdf(2, n, p)"
      ],
      "metadata": {
        "colab": {
          "base_uri": "https://localhost:8080/"
        },
        "id": "o1NlQRwFmzdw",
        "outputId": "de34570f-4a98-45d3-aaf4-7b407f8f47ec"
      },
      "execution_count": 10,
      "outputs": [
        {
          "output_type": "execute_result",
          "data": {
            "text/plain": [
              "0.9884964426207031"
            ]
          },
          "metadata": {},
          "execution_count": 10
        }
      ]
    },
    {
      "cell_type": "code",
      "source": [
        "# 3. iii. No máximo 8 sejam defeituosas\n",
        "binom.cdf(8, n, p)"
      ],
      "metadata": {
        "colab": {
          "base_uri": "https://localhost:8080/"
        },
        "id": "YenVhI1vnAWZ",
        "outputId": "1d4466a9-88c2-4d48-ca75-2dca28650738"
      },
      "execution_count": 11,
      "outputs": [
        {
          "output_type": "execute_result",
          "data": {
            "text/plain": [
              "0.9999999999813477"
            ]
          },
          "metadata": {},
          "execution_count": 11
        }
      ]
    },
    {
      "cell_type": "code",
      "source": [
        "# 3. iv. Mais de 7 não sejam defeituosas\n",
        "binom.cdf(2,n,p)"
      ],
      "metadata": {
        "colab": {
          "base_uri": "https://localhost:8080/"
        },
        "id": "Wa5iWYoknKvt",
        "outputId": "92d47b48-4476-4b8a-aa51-bae76735f68b"
      },
      "execution_count": 12,
      "outputs": [
        {
          "output_type": "execute_result",
          "data": {
            "text/plain": [
              "0.9884964426207031"
            ]
          },
          "metadata": {},
          "execution_count": 12
        }
      ]
    },
    {
      "cell_type": "markdown",
      "source": [
        "## Exercício 1\n",
        "\n",
        "Cada amostra de ar tem 10% de chance de conter uma certa molécula rara. Considere que as amostras sejam independentes com relação à presença da molécula rara. Encontre a probabilidade de que nas próximas 18 amostras:\n",
        "\n",
        "1. Exatamente 2 contenham a molécula rara.\n",
        "2. No mínimo 4 amostras contenham a molécula rara.\n",
        "3. De 3 a 7 amostras contenham a molécula rara.\n",
        "4. O número médio e a variância de moléculas raras."
      ],
      "metadata": {
        "id": "byEkQ3deyV6c"
      }
    },
    {
      "cell_type": "code",
      "source": [
        "n = 18\n",
        "p = 0.1"
      ],
      "metadata": {
        "id": "JK8B6AOynhpb"
      },
      "execution_count": 15,
      "outputs": []
    },
    {
      "cell_type": "code",
      "source": [
        "# 1. Exatamente 2 contenham a molécula rara\n",
        "binom.pmf(2,n,p)"
      ],
      "metadata": {
        "colab": {
          "base_uri": "https://localhost:8080/"
        },
        "id": "LWdJ0u7vycGk",
        "outputId": "4d72a860-7d68-4aaf-ca2b-d66da6f89459"
      },
      "execution_count": 16,
      "outputs": [
        {
          "output_type": "execute_result",
          "data": {
            "text/plain": [
              "0.2835120888943317"
            ]
          },
          "metadata": {},
          "execution_count": 16
        }
      ]
    },
    {
      "cell_type": "code",
      "source": [
        "# 2. No Mínimo 4 amostras contenha a molécula rara. P(X >= 4) == P(X > 3)\n",
        "binom.sf(3,n,p)\n"
      ],
      "metadata": {
        "colab": {
          "base_uri": "https://localhost:8080/"
        },
        "id": "_YZ9ncdjyopt",
        "outputId": "939aef1e-c941-4bca-dc07-7f6779ab2bbd"
      },
      "execution_count": 17,
      "outputs": [
        {
          "output_type": "execute_result",
          "data": {
            "text/plain": [
              "0.09819684142543739"
            ]
          },
          "metadata": {},
          "execution_count": 17
        }
      ]
    },
    {
      "cell_type": "code",
      "source": [
        "# 3. De 3 a 7 amostras contenham a molécula rara.\n",
        "p_interval = [binom.pmf(i,n,p) for i in range(3,8)]\n",
        "sum(p_interval)"
      ],
      "metadata": {
        "colab": {
          "base_uri": "https://localhost:8080/"
        },
        "id": "N-bf0Iphy-Z7",
        "outputId": "616b52c3-169c-4bee-c8b1-64153cf4768e"
      },
      "execution_count": 19,
      "outputs": [
        {
          "output_type": "execute_result",
          "data": {
            "text/plain": [
              "0.26603054787476715"
            ]
          },
          "metadata": {},
          "execution_count": 19
        }
      ]
    },
    {
      "cell_type": "code",
      "source": [
        "# 4. O número médio e a variância de moléculas raras.\n",
        "print(f\"Mean: {binom.mean(n,p)}\")\n",
        "print(f\"Variance: {binom.var(n,p)}\")"
      ],
      "metadata": {
        "colab": {
          "base_uri": "https://localhost:8080/"
        },
        "id": "UBf7-XiGzUci",
        "outputId": "2b4be0f6-20fc-4335-bee5-d0e6181033f3"
      },
      "execution_count": 20,
      "outputs": [
        {
          "output_type": "stream",
          "name": "stdout",
          "text": [
            "Mean: 1.8\n",
            "Variance: 1.62\n"
          ]
        }
      ]
    },
    {
      "cell_type": "markdown",
      "source": [
        "## Exercício 2\n",
        "Se 20% dos parafusos produzidos por uma maquina são defeituosos, determine qual a probabilidade de, entre 4 parafusos selecionados ao acaso, no máximo 2 deles serem defeituosos."
      ],
      "metadata": {
        "id": "xaSihmBrzxqj"
      }
    },
    {
      "cell_type": "code",
      "source": [
        "p = 0.2\n",
        "n = 4\n",
        "binom.cdf(2, n, p)"
      ],
      "metadata": {
        "colab": {
          "base_uri": "https://localhost:8080/"
        },
        "id": "_oYAM4d0zs76",
        "outputId": "12b0bc83-5bc7-45c8-ae7e-6606ba1938eb"
      },
      "execution_count": 22,
      "outputs": [
        {
          "output_type": "execute_result",
          "data": {
            "text/plain": [
              "0.9728"
            ]
          },
          "metadata": {},
          "execution_count": 22
        }
      ]
    },
    {
      "cell_type": "markdown",
      "source": [
        "## Exercício 3\n",
        "Um fabricante de certas peças de automóveis garante que uma caixa de suas peças conterá no máximo 2 itens defeituosos. Se a caixa contem 20 peças e a experiência tem demonstrado que esse processo de fabricação produz 2 por cento de itens defeituosos, qual a probabilidade de que uma caixa de suas peças não vá satisfazer a garantia?"
      ],
      "metadata": {
        "id": "57xHkud-0DmY"
      }
    },
    {
      "cell_type": "code",
      "source": [
        "# X ~ P(X>2)\n",
        "n = 20\n",
        "p = 0.02\n",
        "binom.sf(2, n, p)"
      ],
      "metadata": {
        "colab": {
          "base_uri": "https://localhost:8080/"
        },
        "id": "ahyxDZShz65t",
        "outputId": "09ffc1ea-a8f7-40d7-c1f7-97a37c282ad0"
      },
      "execution_count": 23,
      "outputs": [
        {
          "output_type": "execute_result",
          "data": {
            "text/plain": [
              "0.0070686934038140595"
            ]
          },
          "metadata": {},
          "execution_count": 23
        }
      ]
    },
    {
      "cell_type": "code",
      "source": [],
      "metadata": {
        "id": "6vTOYbNY0fZG"
      },
      "execution_count": null,
      "outputs": []
    }
  ]
}