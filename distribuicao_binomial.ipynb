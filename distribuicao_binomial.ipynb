{
  "nbformat": 4,
  "nbformat_minor": 0,
  "metadata": {
    "colab": {
      "provenance": [],
      "authorship_tag": "ABX9TyM+0p5Ccdqh1Zk1NW2S/7W/",
      "include_colab_link": true
    },
    "kernelspec": {
      "name": "python3",
      "display_name": "Python 3"
    },
    "language_info": {
      "name": "python"
    }
  },
  "cells": [
    {
      "cell_type": "markdown",
      "metadata": {
        "id": "view-in-github",
        "colab_type": "text"
      },
      "source": [
        "<a href=\"https://colab.research.google.com/github/ihagoSantos/general-statistics/blob/main/distribuicao_binomial.ipynb\" target=\"_parent\"><img src=\"https://colab.research.google.com/assets/colab-badge.svg\" alt=\"Open In Colab\"/></a>"
      ]
    },
    {
      "cell_type": "markdown",
      "source": [
        "# Distribuição Binomial\n",
        "\n",
        "- Distribuição Binomial para o cálculo de P(X=x) \\\\\n",
        "`binom.pmf(x,n,p)`\n",
        "\n",
        "\n",
        "- Distribuição Binomial para o cálculo de P(0 <= X <= x) = P(X <= x) \\\\\n",
        "`binom.cdf(x,n,p)`\n",
        "\n",
        "- Distribuição Binomial para o cálculo de P(X > x) \\\\\n",
        "`binom.sf(x,n,p)`\n",
        "\n",
        "Importante:\n",
        "\n",
        "Para usar as funções de cálculo de probabilidade para a distribuição binomial no Python, é necessário primeiramente importar a função *binom*:\n",
        "\n",
        "```\n",
        "from scipy.stats import binom\n",
        "```\n",
        "\n"
      ],
      "metadata": {
        "id": "WDXs0X0kcISP"
      }
    },
    {
      "cell_type": "code",
      "execution_count": 1,
      "metadata": {
        "id": "1UbjZzv9cGNB"
      },
      "outputs": [],
      "source": [
        "from scipy.stats import binom"
      ]
    },
    {
      "cell_type": "markdown",
      "source": [
        "## Exercício 1\n",
        "\n",
        "Uma caixa de ovos com 12 unidades possui a probabilidade de 5% de um dos ovos ser quebrado em 3 situações: enquanto é manuseado, no transporte e nas gôndolas do mercado.\n",
        "\n",
        "a) Qual a probabilidade de que essa caixa de ovos possua 2 unidades quebradas?\n",
        "\n",
        "b) Qual a probabilidade de que essa caixa de ovos possua no máximo 2 unidades quebradas?\n",
        "\n",
        "c) Qual a probabilidade de que essa caixa de ovos possua mais de 2 unidades quebradas?"
      ],
      "metadata": {
        "id": "6wGjbZKvdjgm"
      }
    },
    {
      "cell_type": "code",
      "source": [
        "n = 12 # unidades de ovos\n",
        "p = 0.05 # probabilidade de um dos ovos ser quebrado\n",
        "q = 0.95 # probabilidade de um dos ovos não ser quebrado"
      ],
      "metadata": {
        "id": "itTz_aS-eQTd"
      },
      "execution_count": 2,
      "outputs": []
    },
    {
      "cell_type": "code",
      "source": [
        "# a) P(X=2) ?\n",
        "\n",
        "binom.pmf(2, n, p)"
      ],
      "metadata": {
        "colab": {
          "base_uri": "https://localhost:8080/"
        },
        "id": "JdYLScaneooa",
        "outputId": "c7aaf67e-3bad-45b3-8c72-e99fc48be431"
      },
      "execution_count": 3,
      "outputs": [
        {
          "output_type": "execute_result",
          "data": {
            "text/plain": [
              "0.0987915949743324"
            ]
          },
          "metadata": {},
          "execution_count": 3
        }
      ]
    },
    {
      "cell_type": "code",
      "source": [
        "# b) P(X <= 2) ?\n",
        "\n",
        "binom.cdf(2, n, p)"
      ],
      "metadata": {
        "colab": {
          "base_uri": "https://localhost:8080/"
        },
        "id": "PC_WD3gUfZjR",
        "outputId": "f1add027-86f5-4bbb-ebc6-2eb3552b9825"
      },
      "execution_count": 4,
      "outputs": [
        {
          "output_type": "execute_result",
          "data": {
            "text/plain": [
              "0.9804317380028454"
            ]
          },
          "metadata": {},
          "execution_count": 4
        }
      ]
    },
    {
      "cell_type": "code",
      "source": [
        "# c) P(X > 2) ?\n",
        "\n",
        "binom.sf(2, n, p)"
      ],
      "metadata": {
        "colab": {
          "base_uri": "https://localhost:8080/"
        },
        "id": "H08XJWoofntn",
        "outputId": "23e0c4ff-2c62-4077-d501-fd2ffe032d04"
      },
      "execution_count": 5,
      "outputs": [
        {
          "output_type": "execute_result",
          "data": {
            "text/plain": [
              "0.01956826199715453"
            ]
          },
          "metadata": {},
          "execution_count": 5
        }
      ]
    },
    {
      "cell_type": "code",
      "source": [],
      "metadata": {
        "id": "FXTZWA3vgeUH"
      },
      "execution_count": null,
      "outputs": []
    }
  ]
}