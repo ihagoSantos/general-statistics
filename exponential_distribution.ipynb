{
  "nbformat": 4,
  "nbformat_minor": 0,
  "metadata": {
    "colab": {
      "provenance": [],
      "authorship_tag": "ABX9TyOFk8mRs0KsaB6j3iDhZ3q8",
      "include_colab_link": true
    },
    "kernelspec": {
      "name": "python3",
      "display_name": "Python 3"
    },
    "language_info": {
      "name": "python"
    }
  },
  "cells": [
    {
      "cell_type": "markdown",
      "metadata": {
        "id": "view-in-github",
        "colab_type": "text"
      },
      "source": [
        "<a href=\"https://colab.research.google.com/github/ihagoSantos/general-statistics/blob/main/exponential_distribution.ipynb\" target=\"_parent\"><img src=\"https://colab.research.google.com/assets/colab-badge.svg\" alt=\"Open In Colab\"/></a>"
      ]
    },
    {
      "cell_type": "markdown",
      "source": [
        "# Distribuição Exponencial\n",
        "\n",
        "- Distribuição Exponencial para o calculo de P(0 <= X <= x) = P(X <= x)\n",
        "  - `expon.cdf(x, scale=media)`\n",
        "- Distribuição Exponencial para o cálculo de P(X > x)\n",
        "  - `expon.sf(x, scale=media)`\n",
        "\n",
        "## Importante:\n",
        "Para usar as funções de cálculo de probabilidade para a distribuição exponencial no Python é necessário primeiramente importar a funçao *expon*\n",
        "\n",
        "```\n",
        "from scipy.stats import expon\n",
        "```"
      ],
      "metadata": {
        "id": "h8fiaD8EbaZS"
      }
    },
    {
      "cell_type": "code",
      "execution_count": 3,
      "metadata": {
        "id": "hVvvLA7ebV2S"
      },
      "outputs": [],
      "source": [
        "from scipy.stats import expon"
      ]
    },
    {
      "cell_type": "markdown",
      "source": [
        "### Exercício 1\n",
        "\n",
        "O tempo de espera em uma fila para realizar o pagamento dos produtos adquiridos na loja segue uma distribuição exponencial com parâmetro 1/5 minutos.\n",
        "\n",
        "- a. Qual a probabilidade de que uma pessoa espere um tempo menor do que a média?\n",
        "- b. Qual é a probabilidade de que uma pessoa esperre entre 4 e 6 minutos na fila até o atendimento?"
      ],
      "metadata": {
        "id": "4SqVbovzcnun"
      }
    },
    {
      "cell_type": "code",
      "source": [
        "alpha = 1/5;\n",
        "media = 1/alpha"
      ],
      "metadata": {
        "colab": {
          "base_uri": "https://localhost:8080/"
        },
        "id": "Mz7h87PYcmJ3",
        "outputId": "78cefe50-5152-4df0-ad01-d1919ccf629d"
      },
      "execution_count": 4,
      "outputs": [
        {
          "output_type": "execute_result",
          "data": {
            "text/plain": [
              "5.0"
            ]
          },
          "metadata": {},
          "execution_count": 4
        }
      ]
    },
    {
      "cell_type": "code",
      "source": [
        "# a. P(X < 5) = ?\n",
        "\n",
        "expon.cdf(5, scale=media)"
      ],
      "metadata": {
        "colab": {
          "base_uri": "https://localhost:8080/"
        },
        "id": "Fhl9BZr5dRQK",
        "outputId": "0e9a28a5-5470-4b15-d60a-51ee9be49e29"
      },
      "execution_count": 6,
      "outputs": [
        {
          "output_type": "execute_result",
          "data": {
            "text/plain": [
              "0.6321205588285577"
            ]
          },
          "metadata": {},
          "execution_count": 6
        }
      ]
    },
    {
      "cell_type": "code",
      "source": [
        "# b. P(4 < X < 6) = P(X < 6) - P(X < 4)\n",
        "p4 = expon.cdf(4, scale=media)\n",
        "p6 = expon.cdf(6, scale=media)\n",
        "\n",
        "p6 - p4"
      ],
      "metadata": {
        "colab": {
          "base_uri": "https://localhost:8080/"
        },
        "id": "SbbTZYred57O",
        "outputId": "7fcea899-2875-4dff-b76d-cd64228ccec2"
      },
      "execution_count": 7,
      "outputs": [
        {
          "output_type": "execute_result",
          "data": {
            "text/plain": [
              "0.14813475220501937"
            ]
          },
          "metadata": {},
          "execution_count": 7
        }
      ]
    },
    {
      "cell_type": "code",
      "source": [],
      "metadata": {
        "id": "KuFKaEm3ecW2"
      },
      "execution_count": null,
      "outputs": []
    },
    {
      "cell_type": "markdown",
      "source": [
        "# Exercício 2\n",
        "\n",
        "Suponha que o tempo de vida de um celular seja modelado pela distribuição exponencial apresentando uma média de 2 anos.\n",
        "\n",
        "- a. Calcule a probabilidade do aparelho durar menos do que o tempo de cobertura da garantia estabelecida pela fábrica que é de 1 ano.\n",
        "- b. Sabendo que a garantia acabou de vencer sem que o aparelho apresentasse problema, calcule a probabilidade do aparelho durar pelo menos mais 1 ano."
      ],
      "metadata": {
        "id": "_g7TXruzemR8"
      }
    },
    {
      "cell_type": "code",
      "source": [
        "media = 2\n",
        "alpha = 1/media\n"
      ],
      "metadata": {
        "id": "vfsibRocenyH"
      },
      "execution_count": 8,
      "outputs": []
    },
    {
      "cell_type": "code",
      "source": [
        "# a. P(X < 1)\n",
        "expon.cdf(1, scale=media)"
      ],
      "metadata": {
        "colab": {
          "base_uri": "https://localhost:8080/"
        },
        "id": "eXwm3H0sfHw7",
        "outputId": "3cf12aa4-5784-41f9-8053-7f7e6c8e5529"
      },
      "execution_count": 9,
      "outputs": [
        {
          "output_type": "execute_result",
          "data": {
            "text/plain": [
              "0.3934693402873666"
            ]
          },
          "metadata": {},
          "execution_count": 9
        }
      ]
    },
    {
      "cell_type": "code",
      "source": [
        "# b. P(X >= 2 | X > 1) = P(P(X >= 2 E X > 1)) / P(X > 1)\n",
        "# OU Aplicando a probablidade de falta de memória da distribuição exponencial P(X >= 2 | X > 1) = P(X > 1)\n",
        "expon.sf(1, scale=media)"
      ],
      "metadata": {
        "colab": {
          "base_uri": "https://localhost:8080/"
        },
        "id": "KBd2iM9OfLuk",
        "outputId": "5d1558fe-cdfe-4487-8daa-34c0db79f3f3"
      },
      "execution_count": 12,
      "outputs": [
        {
          "output_type": "execute_result",
          "data": {
            "text/plain": [
              "0.6065306597126334"
            ]
          },
          "metadata": {},
          "execution_count": 12
        }
      ]
    },
    {
      "cell_type": "code",
      "source": [],
      "metadata": {
        "id": "x33ZW3MFgFgj"
      },
      "execution_count": null,
      "outputs": []
    }
  ]
}